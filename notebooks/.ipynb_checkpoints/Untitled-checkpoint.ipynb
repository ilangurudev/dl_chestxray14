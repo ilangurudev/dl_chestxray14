{
 "cells": [
  {
   "cell_type": "code",
   "execution_count": 77,
   "metadata": {},
   "outputs": [],
   "source": [
    "import fastai\n",
    "import fastai.vision as vision\n",
    "from PIL import Image\n",
    "from pathlib import Path"
   ]
  },
  {
   "cell_type": "code",
   "execution_count": 45,
   "metadata": {},
   "outputs": [],
   "source": [
    "# def predict(filename, model_name='model'):\n",
    "#     path = '.'\n",
    "#     data = vision.ImageDataBunch.single_from_classes('.', ['3', '7'], \n",
    "#                                                      ds_tfms=vision.get_transforms(), \n",
    "#                                                      size=224).normalize(vision.imagenet_stats)\n",
    "#     learn = vision.create_cnn(data, vision.models.resnet18)\n",
    "#     learn.load('model')\n",
    "#     label = learn.predict(Image.open(filename)) #\n",
    "#     return label\n",
    "\n",
    "# predict(\"./MV5BNDU3YzJlY2EtODA3NS00ZWM3LWJhYjUtZWE3MmE2YmEzNWYwXkEyXkFqcGdeQXVyNDMzMzI5MjM@._V1_SY1000_SX675_AL_.jpg\")"
   ]
  },
  {
   "cell_type": "code",
   "execution_count": 78,
   "metadata": {},
   "outputs": [],
   "source": [
    "def get_model(model_dir):\n",
    "    path = Path(model_dir)\n",
    "    empty_data = vision.ImageDataBunch.load_empty(path)\n",
    "    learn = vision.create_cnn(empty_data, vision.models.resnet18, pretrained=False).load('model')\n",
    "    return learn"
   ]
  },
  {
   "cell_type": "code",
   "execution_count": 84,
   "metadata": {},
   "outputs": [
    {
     "data": {
      "text/plain": [
       "['3', '7']"
      ]
     },
     "execution_count": 84,
     "metadata": {},
     "output_type": "execute_result"
    }
   ],
   "source": [
    "learn = model_fn('./model_data')\n",
    "learn.data.classes"
   ]
  },
  {
   "cell_type": "code",
   "execution_count": 85,
   "metadata": {},
   "outputs": [
    {
     "data": {
      "text/plain": [
       "('7', tensor([6.5169e-10, 1.0000e+00]))"
      ]
     },
     "execution_count": 85,
     "metadata": {},
     "output_type": "execute_result"
    }
   ],
   "source": [
    "dt = vision.open_image('./7.png')\n",
    "# learn.data.classes\n",
    "predict_class,predict_idx,predict_values = learn.predict(dt)\n",
    "str(predict_class), predict_values"
   ]
  },
  {
   "cell_type": "code",
   "execution_count": 44,
   "metadata": {},
   "outputs": [],
   "source": [
    "# def evaluate_image(model, img):\n",
    "#     pred_class, pred_idx, outputs = model.predict(img)\n",
    "#     return pred_class\n",
    "\n",
    "# evaluate_image(m, )"
   ]
  }
 ],
 "metadata": {
  "kernelspec": {
   "display_name": "Python 3",
   "language": "python",
   "name": "python3"
  },
  "language_info": {
   "codemirror_mode": {
    "name": "ipython",
    "version": 3
   },
   "file_extension": ".py",
   "mimetype": "text/x-python",
   "name": "python",
   "nbconvert_exporter": "python",
   "pygments_lexer": "ipython3",
   "version": "3.7.1"
  },
  "toc": {
   "base_numbering": 1,
   "nav_menu": {},
   "number_sections": true,
   "sideBar": true,
   "skip_h1_title": false,
   "title_cell": "Table of Contents",
   "title_sidebar": "Contents",
   "toc_cell": false,
   "toc_position": {},
   "toc_section_display": true,
   "toc_window_display": false
  },
  "varInspector": {
   "cols": {
    "lenName": 16,
    "lenType": 16,
    "lenVar": 40
   },
   "kernels_config": {
    "python": {
     "delete_cmd_postfix": "",
     "delete_cmd_prefix": "del ",
     "library": "var_list.py",
     "varRefreshCmd": "print(var_dic_list())"
    },
    "r": {
     "delete_cmd_postfix": ") ",
     "delete_cmd_prefix": "rm(",
     "library": "var_list.r",
     "varRefreshCmd": "cat(var_dic_list()) "
    }
   },
   "types_to_exclude": [
    "module",
    "function",
    "builtin_function_or_method",
    "instance",
    "_Feature"
   ],
   "window_display": false
  }
 },
 "nbformat": 4,
 "nbformat_minor": 2
}
